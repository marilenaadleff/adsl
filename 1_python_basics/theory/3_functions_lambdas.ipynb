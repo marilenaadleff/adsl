{
 "cells": [
  {
   "cell_type": "markdown",
   "id": "49e95655",
   "metadata": {},
   "source": [
    "# Functions and Lambdas"
   ]
  },
  {
   "cell_type": "markdown",
   "id": "c5f10718",
   "metadata": {},
   "source": [
    "### Functions\n",
    "Functions are re-usable piece of code, consisting in a name and body.\n",
    "\n",
    "Functions is defined using the def keyword:"
   ]
  },
  {
   "cell_type": "code",
   "execution_count": 2,
   "id": "3484f111",
   "metadata": {},
   "outputs": [],
   "source": [
    "# A function that prints something.\n",
    "def hello_world():\n",
    "  print(\"Hello World from a function!\")"
   ]
  },
  {
   "cell_type": "markdown",
   "id": "2a0d652d",
   "metadata": {},
   "source": [
    "Invoking the function.\n",
    "\n",
    "(invoking, executing, calling, running, ... are synonymous in this context)"
   ]
  },
  {
   "cell_type": "code",
   "execution_count": 3,
   "id": "a47ce432",
   "metadata": {},
   "outputs": [
    {
     "name": "stdout",
     "output_type": "stream",
     "text": [
      "Hello World from a function!\n"
     ]
    }
   ],
   "source": [
    "hello_world()"
   ]
  },
  {
   "cell_type": "markdown",
   "id": "70c96d9b",
   "metadata": {},
   "source": [
    "Functions can accept input parameters.\n",
    "\n",
    "(Synonomous: arguments)"
   ]
  },
  {
   "cell_type": "code",
   "execution_count": 5,
   "id": "e0e22e78",
   "metadata": {},
   "outputs": [],
   "source": [
    "# A function that says hello to someone.\n",
    "def hello_who(who):\n",
    "  print(\"Hello \" + who + \" from a function!\")"
   ]
  },
  {
   "cell_type": "code",
   "execution_count": 6,
   "id": "f7640ae0",
   "metadata": {},
   "outputs": [
    {
     "name": "stdout",
     "output_type": "stream",
     "text": [
      "Hello Mario from a function!\n"
     ]
    }
   ],
   "source": [
    "hello_who(\"Mario\")"
   ]
  },
  {
   "cell_type": "markdown",
   "id": "a4c70ff4",
   "metadata": {},
   "source": [
    "Hier definiert man dann die Inhalte der Funktion (sozusagen die Liste)"
   ]
  },
  {
   "cell_type": "markdown",
   "id": "d8a0d6fb",
   "metadata": {},
   "source": [
    "Multiple arguments can be specified."
   ]
  },
  {
   "cell_type": "code",
   "execution_count": 10,
   "id": "10211be8",
   "metadata": {},
   "outputs": [],
   "source": [
    "# A function that says hello to two people.\n",
    "# We can name the parameters as we wish (almost).\n",
    "def hello_who(name1, name2):\n",
    "  print(\"Hello \" + name1 + \" and \" + name2 + \" from a function!\")"
   ]
  },
  {
   "cell_type": "code",
   "execution_count": 11,
   "id": "e9d2ac78",
   "metadata": {},
   "outputs": [
    {
     "name": "stdout",
     "output_type": "stream",
     "text": [
      "Hello Mario and Luigi from a function!\n"
     ]
    }
   ],
   "source": [
    "hello_who(\"Mario\", \"Luigi\")"
   ]
  },
  {
   "cell_type": "markdown",
   "id": "3830711b",
   "metadata": {},
   "source": [
    "If a functions expects two parameters, you need to pass to paramters."
   ]
  },
  {
   "cell_type": "code",
   "execution_count": 9,
   "id": "6441b673",
   "metadata": {},
   "outputs": [
    {
     "ename": "TypeError",
     "evalue": "hello_who() missing 1 required positional argument: 'name2'",
     "output_type": "error",
     "traceback": [
      "\u001b[0;31m---------------------------------------------------------------------------\u001b[0m",
      "\u001b[0;31mTypeError\u001b[0m                                 Traceback (most recent call last)",
      "Cell \u001b[0;32mIn [9], line 1\u001b[0m\n\u001b[0;32m----> 1\u001b[0m \u001b[43mhello_who\u001b[49m\u001b[43m(\u001b[49m\u001b[38;5;124;43m\"\u001b[39;49m\u001b[38;5;124;43mBowser\u001b[39;49m\u001b[38;5;124;43m\"\u001b[39;49m\u001b[43m)\u001b[49m\n",
      "\u001b[0;31mTypeError\u001b[0m: hello_who() missing 1 required positional argument: 'name2'"
     ]
    }
   ],
   "source": [
    "hello_who(\"Bowser\")"
   ]
  },
  {
   "cell_type": "code",
   "execution_count": null,
   "id": "520eb686",
   "metadata": {},
   "outputs": [],
   "source": [
    "hello_who(\"Bowser\", \"Nokonoko\")"
   ]
  },
  {
   "cell_type": "markdown",
   "id": "94f2d0a5",
   "metadata": {},
   "source": [
    "If you don't know in advance how many parameters will specified, you can add the argument-unpacking operator `*` "
   ]
  },
  {
   "cell_type": "code",
   "execution_count": 12,
   "id": "e0dde5a0",
   "metadata": {},
   "outputs": [],
   "source": [
    "def hello_who(*names):\n",
    "  print(\"Hello \" + names[0] + \" and \" + names[1] + \" from a function!\")"
   ]
  },
  {
   "cell_type": "code",
   "execution_count": 13,
   "id": "fd2962dd",
   "metadata": {},
   "outputs": [
    {
     "name": "stdout",
     "output_type": "stream",
     "text": [
      "Hello Peach and Toad from a function!\n"
     ]
    }
   ],
   "source": [
    "hello_who(\"Peach\", \"Toad\", \"Yoshi\")"
   ]
  },
  {
   "cell_type": "markdown",
   "id": "684fcf4f",
   "metadata": {},
   "source": [
    "If your function accepts many parameters, it might be easier to name them, rather than relying on their order."
   ]
  },
  {
   "cell_type": "code",
   "execution_count": null,
   "id": "f58734f4",
   "metadata": {},
   "outputs": [],
   "source": [
    "def hello_who(name1, name2, name3):\n",
    "  print(\"Hello \" + name1 + \", \" + name2 + \", and \" + name3 + \" from a function!\")"
   ]
  },
  {
   "cell_type": "code",
   "execution_count": null,
   "id": "42624b16",
   "metadata": {},
   "outputs": [],
   "source": [
    "hello_who(name2 = \"Peach\", name1 = \"Toad\", name3 = \"Yoshi\")"
   ]
  },
  {
   "cell_type": "markdown",
   "id": "22ae4450",
   "metadata": {},
   "source": [
    "We can also have an arbitray numbers of named (or keyword) parameters adding `**`"
   ]
  },
  {
   "cell_type": "code",
   "execution_count": null,
   "id": "22232326",
   "metadata": {},
   "outputs": [],
   "source": [
    "def hello_who(**name):\n",
    "  print(\"Hello \" + name['first'] + \" \" + name['last'] + \" from a function!\")"
   ]
  },
  {
   "cell_type": "code",
   "execution_count": null,
   "id": "a24910ee",
   "metadata": {},
   "outputs": [],
   "source": [
    "hello_who(first = \"King\", last = \"Koopa\")"
   ]
  },
  {
   "cell_type": "markdown",
   "id": "0ff02466",
   "metadata": {},
   "source": [
    "You can specify default values to input arguments."
   ]
  },
  {
   "cell_type": "code",
   "execution_count": null,
   "id": "c55318f3",
   "metadata": {},
   "outputs": [],
   "source": [
    "def hello_who(name=\"Mario\"):\n",
    "  print(\"Hello \" + name + \" from a function!\")"
   ]
  },
  {
   "cell_type": "code",
   "execution_count": null,
   "id": "47f03ac9",
   "metadata": {},
   "outputs": [],
   "source": [
    "hello_who()"
   ]
  },
  {
   "cell_type": "markdown",
   "id": "da24272e",
   "metadata": {},
   "source": [
    "Functions are not limited to print stuff, but they can also return a value."
   ]
  },
  {
   "cell_type": "code",
   "execution_count": 14,
   "id": "3939d508",
   "metadata": {},
   "outputs": [],
   "source": [
    "def best_buddy(name):\n",
    "  if name == \"Mario\": return \"Luigi\"\n",
    "  if name == \"Luigi\": return \"Mario\"\n",
    "  if name == \"Bowser\": return \"NokoNoko\"\n",
    "  if name == \"NokoNoko\": return \"Bowser\"\n",
    "  if name == \"Peach\": return \"Toad\"\n",
    "  if name == \"Toad\": return \"Peach\"\n",
    "  if name == \"Luigi\": return \"Mario\"\n",
    "  return \"I do not know!\"\n"
   ]
  },
  {
   "cell_type": "code",
   "execution_count": 15,
   "id": "ce95f1e4",
   "metadata": {},
   "outputs": [
    {
     "data": {
      "text/plain": [
       "'Mario'"
      ]
     },
     "execution_count": 15,
     "metadata": {},
     "output_type": "execute_result"
    }
   ],
   "source": [
    "best_buddy(\"Luigi\")"
   ]
  },
  {
   "cell_type": "markdown",
   "id": "2cce60e7",
   "metadata": {},
   "source": [
    "### Lambda functions"
   ]
  },
  {
   "cell_type": "markdown",
   "id": "24b8c824",
   "metadata": {},
   "source": [
    "Lambda functions are simple anonymous functions of the form:\n",
    "\n",
    "```\n",
    "lambda arguments : expression\n",
    "```"
   ]
  },
  {
   "cell_type": "code",
   "execution_count": null,
   "id": "56a9ae09",
   "metadata": {},
   "outputs": [],
   "source": [
    "x = lambda a : a + 1\n",
    "print(x(1))"
   ]
  },
  {
   "cell_type": "code",
   "execution_count": null,
   "id": "897eb409",
   "metadata": {},
   "outputs": [],
   "source": [
    "x = lambda a, b : a * b\n",
    "print(x(3, 3))"
   ]
  },
  {
   "cell_type": "markdown",
   "id": "3b630cd8",
   "metadata": {},
   "source": [
    "Lambda functions are particularly useful as callbacks inside other functions. "
   ]
  },
  {
   "cell_type": "code",
   "execution_count": null,
   "id": "1ca80269",
   "metadata": {},
   "outputs": [],
   "source": [
    "def get_mult_func(n):\n",
    "  return lambda a : a * n"
   ]
  },
  {
   "cell_type": "code",
   "execution_count": null,
   "id": "e4bfe33f",
   "metadata": {},
   "outputs": [],
   "source": [
    "doubler = get_mult_func(2)\n",
    "\n",
    "print(doubler(5))"
   ]
  },
  {
   "cell_type": "code",
   "execution_count": null,
   "id": "df851983",
   "metadata": {},
   "outputs": [],
   "source": [
    "tripler = get_mult_func(3)\n",
    "\n",
    "print(tripler(5))"
   ]
  },
  {
   "cell_type": "markdown",
   "id": "a6399f8f",
   "metadata": {},
   "source": [
    "Perhaps lambdas are best used in tandem with python's built-in functions."
   ]
  },
  {
   "cell_type": "code",
   "execution_count": 16,
   "id": "9742ffa2",
   "metadata": {},
   "outputs": [],
   "source": [
    "sequences = [10,2,8,7,5,4,3,11,0,1]\n",
    "## We raise each number to the square with the help of the map function.\n",
    "filtered_result = map(lambda x: x*x, sequences) \n",
    "print(list(filtered_result))"
   ]
  },
  {
   "cell_type": "markdown",
   "id": "d244814c",
   "metadata": {},
   "source": [
    "### Global variables\n",
    "\n",
    "To access a global variable from inside a function's body you need to use the `global` keyword.\n",
    "\n",
    "This is because the **scope** of a variable in python it's the function in which it is created."
   ]
  },
  {
   "cell_type": "code",
   "execution_count": null,
   "id": "e10e34f4",
   "metadata": {},
   "outputs": [],
   "source": [
    "my_global_var = \"Bazinga!\"\n",
    "\n",
    "def my_func():\n",
    "    global my_global_var\n",
    "    my_global_var = \"Nope.\"\n",
    "\n",
    "my_func()\n",
    "\n",
    "print(my_global_var)"
   ]
  }
 ],
 "metadata": {
  "kernelspec": {
   "display_name": "Python 3.10.7 64-bit",
   "language": "python",
   "name": "python3"
  },
  "language_info": {
   "codemirror_mode": {
    "name": "ipython",
    "version": 3
   },
   "file_extension": ".py",
   "mimetype": "text/x-python",
   "name": "python",
   "nbconvert_exporter": "python",
   "pygments_lexer": "ipython3",
   "version": "3.10.7"
  },
  "vscode": {
   "interpreter": {
    "hash": "aee8b7b246df8f9039afb4144a1f6fd8d2ca17a180786b69acc140d282b71a49"
   }
  }
 },
 "nbformat": 4,
 "nbformat_minor": 5
}
