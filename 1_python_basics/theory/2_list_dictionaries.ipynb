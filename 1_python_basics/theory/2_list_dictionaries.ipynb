{
 "cells": [
  {
   "cell_type": "markdown",
   "id": "49e95655",
   "metadata": {},
   "source": [
    "# Data structures"
   ]
  },
  {
   "cell_type": "markdown",
   "id": "c5f10718",
   "metadata": {},
   "source": [
    "### Lists\n",
    "Lists are the most commonly used data structure. It represents an ordered, modifiable set of objects.\n",
    "Lists are written as sequences of data, separated by a comma and enclosed in square brackets.\n",
    "\n",
    "Lists are declared by just equating a variable to '[ ]' or list."
   ]
  },
  {
   "cell_type": "code",
   "execution_count": null,
   "id": "3484f111",
   "metadata": {},
   "outputs": [],
   "source": [
    "# An empty list\n",
    "list_1 = []\n",
    "\n",
    "# a list with integer objects\n",
    "list_2 = [3, 5, 7, 9]\n",
    "\n",
    "# a list of strings\n",
    "list_3 = ['Monday', 'Tuesday', 'Wednesday', 'Thursday', 'Friday', 'Saturday', 'Sunday']\n",
    "\n",
    "# a list of mixed types\n",
    "list_4 = [2, 5, \"Elephant\", 6, 8.2, True]"
   ]
  },
  {
   "cell_type": "markdown",
   "id": "2a0d652d",
   "metadata": {},
   "source": [
    "You can access each data element by its index (position). Note that in Python, indexing starts from 0."
   ]
  },
  {
   "cell_type": "code",
   "execution_count": null,
   "id": "a47ce432",
   "metadata": {},
   "outputs": [],
   "source": [
    "list_4[0]"
   ]
  },
  {
   "cell_type": "code",
   "execution_count": null,
   "id": "e554948a",
   "metadata": {},
   "outputs": [],
   "source": [
    "list_4[4]"
   ]
  },
  {
   "cell_type": "markdown",
   "id": "70c96d9b",
   "metadata": {},
   "source": [
    "Accessing an index that is \"too big\" leads to an error:"
   ]
  },
  {
   "cell_type": "code",
   "execution_count": 3,
   "id": "e0e22e78",
   "metadata": {},
   "outputs": [
    {
     "ename": "IndexError",
     "evalue": "list index out of range",
     "output_type": "error",
     "traceback": [
      "\u001b[0;31m---------------------------------------------------------------------------\u001b[0m",
      "\u001b[0;31mIndexError\u001b[0m                                Traceback (most recent call last)",
      "Cell \u001b[0;32mIn [3], line 1\u001b[0m\n\u001b[0;32m----> 1\u001b[0m \u001b[43mlist_4\u001b[49m\u001b[43m[\u001b[49m\u001b[38;5;241;43m10\u001b[39;49m\u001b[43m]\u001b[49m\n",
      "\u001b[0;31mIndexError\u001b[0m: list index out of range"
     ]
    }
   ],
   "source": [
    "list_4[10]"
   ]
  },
  {
   "cell_type": "markdown",
   "id": "10460e26",
   "metadata": {},
   "source": [
    "Indexing can also be done in reverse order. -1 then is the index of the last element."
   ]
  },
  {
   "cell_type": "code",
   "execution_count": 4,
   "id": "f7640ae0",
   "metadata": {},
   "outputs": [
    {
     "data": {
      "text/plain": [
       "True"
      ]
     },
     "execution_count": 4,
     "metadata": {},
     "output_type": "execute_result"
    }
   ],
   "source": [
    "list_4[-1]"
   ]
  },
  {
   "cell_type": "markdown",
   "id": "2cce60e7",
   "metadata": {},
   "source": [
    "### Built-in List functions"
   ]
  },
  {
   "cell_type": "code",
   "execution_count": 5,
   "id": "56a9ae09",
   "metadata": {},
   "outputs": [
    {
     "name": "stdout",
     "output_type": "stream",
     "text": [
      "11\n",
      "0\n",
      "5\n",
      "3\n",
      "3\n"
     ]
    }
   ],
   "source": [
    "l = [1,2,3,0,1,5,4,3,5,5,2]\n",
    "\n",
    "print(len(l)) # Number of elements\n",
    "print(min(l)) # minimum of all elements\n",
    "print(max(l)) # maximum of all elements\n",
    "print(l.count(5)) # how often appears the value 5?\n",
    "print(l.index(0)) # at which position appears the value 0 the first time?"
   ]
  },
  {
   "cell_type": "code",
   "execution_count": null,
   "id": "1ca80269",
   "metadata": {},
   "outputs": [],
   "source": [
    "l = ['a','b','c','d']\n",
    "l.append('e') #Adds an element to the end of the list\n",
    "l.append('f')\n",
    "print(l)"
   ]
  },
  {
   "cell_type": "code",
   "execution_count": 6,
   "id": "e4bfe33f",
   "metadata": {},
   "outputs": [
    {
     "name": "stdout",
     "output_type": "stream",
     "text": [
      "[1, 2, 3, 0, 1, 'new_element', 5, 4, 3, 5, 5, 2]\n"
     ]
    }
   ],
   "source": [
    "l.insert (5,\"new_element\")\n",
    "print (l)"
   ]
  },
  {
   "cell_type": "code",
   "execution_count": null,
   "id": "df851983",
   "metadata": {},
   "outputs": [],
   "source": [
    "l = ['a','b','c','d']\n",
    "l.append('e') #Adds an element to the end of the list\n",
    "l.append('f')\n",
    "print(l)"
   ]
  },
  {
   "cell_type": "code",
   "execution_count": null,
   "id": "f85422f0",
   "metadata": {},
   "outputs": [],
   "source": [
    "l.insert(1, \"new_element\")\n",
    "print(l)"
   ]
  },
  {
   "cell_type": "markdown",
   "id": "8c5b78d4",
   "metadata": {},
   "source": [
    "We can also just overwrite elements of a list:"
   ]
  },
  {
   "cell_type": "code",
   "execution_count": 7,
   "id": "f760e725",
   "metadata": {},
   "outputs": [
    {
     "data": {
      "text/plain": [
       "[1, 2, 'replacement', 0, 1, 'new_element', 5, 4, 3, 5, 5, 2]"
      ]
     },
     "execution_count": 7,
     "metadata": {},
     "output_type": "execute_result"
    }
   ],
   "source": [
    "l[2] = 'replacement'\n",
    "l"
   ]
  },
  {
   "cell_type": "code",
   "execution_count": null,
   "id": "e5511005",
   "metadata": {},
   "outputs": [],
   "source": [
    "l[10] = 'too-late' # cannot set an element that does not exist yet"
   ]
  },
  {
   "cell_type": "code",
   "execution_count": null,
   "id": "07911124",
   "metadata": {},
   "outputs": [],
   "source": [
    "l = ['a','b','c','d','b']\n",
    "l.remove('b')\n",
    "l"
   ]
  },
  {
   "cell_type": "code",
   "execution_count": 9,
   "id": "722b439c",
   "metadata": {},
   "outputs": [
    {
     "name": "stdout",
     "output_type": "stream",
     "text": [
      "['a', 'b', 'd']\n",
      "c\n"
     ]
    }
   ],
   "source": [
    "l = ['a','b','c','d']\n",
    "x = l.pop(2)\n",
    "print (l)\n",
    "print (x)"
   ]
  },
  {
   "cell_type": "code",
   "execution_count": 8,
   "id": "98b4dafb",
   "metadata": {},
   "outputs": [
    {
     "data": {
      "text/plain": [
       "['a', 'c', 'd']"
      ]
     },
     "execution_count": 8,
     "metadata": {},
     "output_type": "execute_result"
    }
   ],
   "source": [
    "l = ['a','b','c','d']\n",
    "l.pop(1) # of course, you do not have to use the result value\n",
    "l"
   ]
  },
  {
   "cell_type": "code",
   "execution_count": null,
   "id": "33f35bc1",
   "metadata": {},
   "outputs": [],
   "source": [
    "l = [2,1,4,3,6,5,8,7]\n",
    "l.reverse()\n",
    "l"
   ]
  },
  {
   "cell_type": "code",
   "execution_count": null,
   "id": "faaf4d0c",
   "metadata": {
    "scrolled": true
   },
   "outputs": [],
   "source": [
    "l = [2,1,4,3,6,5,8,7]\n",
    "l.sort()\n",
    "l"
   ]
  },
  {
   "cell_type": "markdown",
   "id": "2431a403",
   "metadata": {},
   "source": [
    "You can also place the contents of variables into a list. Note that you just assign the variable contents, not the variable itself, so the list is unaffected by later changes in the variable!"
   ]
  },
  {
   "cell_type": "code",
   "execution_count": 10,
   "id": "d391e022",
   "metadata": {},
   "outputs": [
    {
     "name": "stdout",
     "output_type": "stream",
     "text": [
      "[5, 10]\n",
      "[5, 10]\n"
     ]
    }
   ],
   "source": [
    "x = 5\n",
    "y = 10\n",
    "l = [x, y]\n",
    "print(l)\n",
    "x = 10\n",
    "print(l)"
   ]
  },
  {
   "cell_type": "markdown",
   "id": "8c729def",
   "metadata": {},
   "source": [
    "### Lists of Lists"
   ]
  },
  {
   "cell_type": "markdown",
   "id": "6e2a3805",
   "metadata": {},
   "source": [
    "Merge two lists"
   ]
  },
  {
   "cell_type": "code",
   "execution_count": 12,
   "id": "d634c1ee",
   "metadata": {},
   "outputs": [
    {
     "data": {
      "text/plain": [
       "[1, 2, 3, 4, 5, 6, 7, 8, 9]"
      ]
     },
     "execution_count": 12,
     "metadata": {},
     "output_type": "execute_result"
    }
   ],
   "source": [
    "list_1 = [1,2,3]\n",
    "list_2 = [4,5,6]\n",
    "list_3 = [7,8,9]\n",
    "list_1 + list_2 + list_3"
   ]
  },
  {
   "cell_type": "markdown",
   "id": "12afc390",
   "metadata": {},
   "source": [
    "List can contain any object. That means it can also contain other lists!\n",
    "\n",
    "To access nested lists we can use indexing again."
   ]
  },
  {
   "cell_type": "code",
   "execution_count": 13,
   "id": "4db9bef7",
   "metadata": {},
   "outputs": [
    {
     "data": {
      "text/plain": [
       "[[1, 2, 3], [4, 5, 6], [7, 8, 9]]"
      ]
     },
     "execution_count": 13,
     "metadata": {},
     "output_type": "execute_result"
    }
   ],
   "source": [
    "list_of_lists = []\n",
    "list_of_lists.append(list_1)\n",
    "list_of_lists.append(list_2)\n",
    "list_of_lists.append(list_3)\n",
    "list_of_lists"
   ]
  },
  {
   "cell_type": "code",
   "execution_count": 14,
   "id": "1528cd0e",
   "metadata": {},
   "outputs": [
    {
     "data": {
      "text/plain": [
       "2"
      ]
     },
     "execution_count": 14,
     "metadata": {},
     "output_type": "execute_result"
    }
   ],
   "source": [
    "#um an die 2 zu kommen muss man schreiben\n",
    "list_of_lists[0][1]\n",
    "#weil die zwei das zweite Element der ersten Klammer ist"
   ]
  },
  {
   "cell_type": "code",
   "execution_count": null,
   "id": "bd4bfb8e",
   "metadata": {},
   "outputs": [],
   "source": [
    "list_of_lists[0]"
   ]
  },
  {
   "cell_type": "code",
   "execution_count": null,
   "id": "69dc8f74",
   "metadata": {},
   "outputs": [],
   "source": [
    "type(list_of_lists)"
   ]
  },
  {
   "cell_type": "code",
   "execution_count": null,
   "id": "bb767420",
   "metadata": {},
   "outputs": [],
   "source": [
    "#We could have also created this directly:\n",
    "list_of_lists = [[1,2,3],\n",
    "                 [4,5,6],\n",
    "                 [7,8,9]]\n",
    "list_of_lists "
   ]
  },
  {
   "cell_type": "markdown",
   "id": "238af56f",
   "metadata": {},
   "source": [
    "Access works just in the same way as before:"
   ]
  },
  {
   "cell_type": "code",
   "execution_count": null,
   "id": "716452ad",
   "metadata": {},
   "outputs": [],
   "source": [
    "print(list_of_lists[1])\n",
    "print(type(list_of_lists))"
   ]
  },
  {
   "cell_type": "markdown",
   "id": "b349992d",
   "metadata": {},
   "source": [
    "We can \"chain\" the locators in square brackets:"
   ]
  },
  {
   "cell_type": "code",
   "execution_count": null,
   "id": "a5c7f2da",
   "metadata": {},
   "outputs": [],
   "source": [
    "list_of_lists[1][0]"
   ]
  },
  {
   "cell_type": "markdown",
   "id": "c030a06b",
   "metadata": {},
   "source": [
    "There is also an option to add all elements from a list to another list, called extend"
   ]
  },
  {
   "cell_type": "code",
   "execution_count": null,
   "id": "ae935b0d",
   "metadata": {},
   "outputs": [],
   "source": [
    "print(list_1)\n",
    "print(list_2)\n",
    "list_1.extend(list_2)\n",
    "print(list_1)"
   ]
  },
  {
   "cell_type": "code",
   "execution_count": null,
   "id": "99fd0bf7",
   "metadata": {},
   "outputs": [],
   "source": [
    "print(list_1)\n",
    "print(list_2)\n",
    "list_1.extend(list_2)\n",
    "print(list_1)"
   ]
  },
  {
   "cell_type": "markdown",
   "id": "908e5e31",
   "metadata": {},
   "source": [
    "Slicing is an operation to access specific parts of the list (several elements). It uses a colo (:) with the index of the first value (included) and the index of the last value (excluded). Thus, my_list[x:y] contains y-x elements. One (or both) values can also be left out, then it is assumed that it is the most extreme possible value."
   ]
  },
  {
   "cell_type": "code",
   "execution_count": 17,
   "id": "c74ca40c",
   "metadata": {},
   "outputs": [],
   "source": [
    "full_list = ['a','b','c','d','e','f','g','h']"
   ]
  },
  {
   "cell_type": "code",
   "execution_count": 18,
   "id": "542c1138",
   "metadata": {
    "scrolled": true
   },
   "outputs": [
    {
     "data": {
      "text/plain": [
       "['b', 'c', 'd', 'e']"
      ]
     },
     "execution_count": 18,
     "metadata": {},
     "output_type": "execute_result"
    }
   ],
   "source": [
    "full_list[1:5]"
   ]
  },
  {
   "cell_type": "code",
   "execution_count": 19,
   "id": "c0065ff5",
   "metadata": {},
   "outputs": [
    {
     "data": {
      "text/plain": [
       "['d', 'e', 'f', 'g', 'h']"
      ]
     },
     "execution_count": 19,
     "metadata": {},
     "output_type": "execute_result"
    }
   ],
   "source": [
    "full_list[3:]"
   ]
  },
  {
   "cell_type": "code",
   "execution_count": 20,
   "id": "a7226fc1",
   "metadata": {},
   "outputs": [
    {
     "data": {
      "text/plain": [
       "['a', 'b', 'c', 'd', 'e']"
      ]
     },
     "execution_count": 20,
     "metadata": {},
     "output_type": "execute_result"
    }
   ],
   "source": [
    "full_list[:5] "
   ]
  },
  {
   "cell_type": "code",
   "execution_count": 21,
   "id": "97537933",
   "metadata": {},
   "outputs": [
    {
     "data": {
      "text/plain": [
       "['a', 'b', 'c', 'd', 'e', 'f', 'g']"
      ]
     },
     "execution_count": 21,
     "metadata": {},
     "output_type": "execute_result"
    }
   ],
   "source": [
    "full_list[:-1] #removes just the last element"
   ]
  },
  {
   "cell_type": "code",
   "execution_count": 22,
   "id": "a499187a",
   "metadata": {},
   "outputs": [
    {
     "name": "stdout",
     "output_type": "stream",
     "text": [
      "['a', 'b', 'c', 'd', 'e', 'f', 'g', 'h']\n"
     ]
    }
   ],
   "source": [
    "x = full_list[:] # just a copy!\n",
    "print(x)"
   ]
  },
  {
   "cell_type": "markdown",
   "id": "5bfdf4d1",
   "metadata": {},
   "source": [
    "### Copying lists"
   ]
  },
  {
   "cell_type": "markdown",
   "id": "c771537f",
   "metadata": {},
   "source": [
    "There is a difference between assigning a new variable to a list (\"just another name for the same list\") or creating a copy of a list!\n"
   ]
  },
  {
   "cell_type": "code",
   "execution_count": 23,
   "id": "e9d6a3b2",
   "metadata": {},
   "outputs": [
    {
     "name": "stdout",
     "output_type": "stream",
     "text": [
      "['a', 'b', 'c', 'd', 'e', 'f', 'g', 'h']\n"
     ]
    }
   ],
   "source": [
    "print(full_list)"
   ]
  },
  {
   "cell_type": "code",
   "execution_count": 24,
   "id": "56be9106",
   "metadata": {},
   "outputs": [
    {
     "name": "stdout",
     "output_type": "stream",
     "text": [
      "['a', 'b', 'c', 'd', 'e', 'f', 'g', 'h']\n",
      "['a', 'b', 'c', 'd', 'e', 'f', 'g', 'h', 'X']\n"
     ]
    }
   ],
   "source": [
    "x = full_list[:]\n",
    "y = full_list\n",
    "full_list.append('X')\n",
    "print(x)\n",
    "print(y)"
   ]
  },
  {
   "cell_type": "markdown",
   "id": "d04d35c4",
   "metadata": {},
   "source": [
    "### Tuples\n"
   ]
  },
  {
   "cell_type": "markdown",
   "id": "3252adc8",
   "metadata": {},
   "source": [
    "Tuples are very similar to lists. The difference is that lists are modifiable, but tuples cannot change once they are created."
   ]
  },
  {
   "cell_type": "code",
   "execution_count": 25,
   "id": "3272c919",
   "metadata": {},
   "outputs": [
    {
     "data": {
      "text/plain": [
       "tuple"
      ]
     },
     "execution_count": 25,
     "metadata": {},
     "output_type": "execute_result"
    }
   ],
   "source": [
    "t = ('a','b','c')\n",
    "type(t)"
   ]
  },
  {
   "cell_type": "code",
   "execution_count": 26,
   "id": "4aedaa1d",
   "metadata": {},
   "outputs": [
    {
     "data": {
      "text/plain": [
       "'b'"
      ]
     },
     "execution_count": 26,
     "metadata": {},
     "output_type": "execute_result"
    }
   ],
   "source": [
    "t[1]"
   ]
  },
  {
   "cell_type": "code",
   "execution_count": 27,
   "id": "997fb739",
   "metadata": {},
   "outputs": [
    {
     "ename": "TypeError",
     "evalue": "'tuple' object does not support item assignment",
     "output_type": "error",
     "traceback": [
      "\u001b[0;31m---------------------------------------------------------------------------\u001b[0m",
      "\u001b[0;31mTypeError\u001b[0m                                 Traceback (most recent call last)",
      "Cell \u001b[0;32mIn [27], line 1\u001b[0m\n\u001b[0;32m----> 1\u001b[0m \u001b[43mt\u001b[49m\u001b[43m[\u001b[49m\u001b[38;5;241;43m1\u001b[39;49m\u001b[43m]\u001b[49m \u001b[38;5;241m=\u001b[39m \u001b[38;5;241m5\u001b[39m\n",
      "\u001b[0;31mTypeError\u001b[0m: 'tuple' object does not support item assignment"
     ]
    }
   ],
   "source": [
    "t[1] = 5"
   ]
  },
  {
   "cell_type": "markdown",
   "id": "6daef5f7",
   "metadata": {},
   "source": [
    "### Sets"
   ]
  },
  {
   "cell_type": "markdown",
   "id": "39bfc580",
   "metadata": {},
   "source": [
    "Sets are similar to lists, but are (i) not ordered and (ii) cannot contain the same element multiple times."
   ]
  },
  {
   "cell_type": "code",
   "execution_count": 28,
   "id": "59309ef4",
   "metadata": {},
   "outputs": [
    {
     "data": {
      "text/plain": [
       "{1, 2, 3, 4, 5}"
      ]
     },
     "execution_count": 28,
     "metadata": {},
     "output_type": "execute_result"
    }
   ],
   "source": [
    "st = set([5,4,3,1,5,2,3,4,5])\n",
    "st"
   ]
  },
  {
   "cell_type": "code",
   "execution_count": null,
   "id": "bdb8aa16",
   "metadata": {},
   "outputs": [],
   "source": [
    "st.add(100)\n",
    "st"
   ]
  },
  {
   "cell_type": "code",
   "execution_count": null,
   "id": "2027c35d",
   "metadata": {},
   "outputs": [],
   "source": [
    "st.add(1)\n",
    "st"
   ]
  },
  {
   "cell_type": "markdown",
   "id": "264a933b",
   "metadata": {},
   "source": [
    "### Dictionaries\n",
    "Python’s built-in mapping type. They map keys, which can be any immutable(unchanchable) type, to values, which can be any type"
   ]
  },
  {
   "cell_type": "code",
   "execution_count": null,
   "id": "256679b8",
   "metadata": {},
   "outputs": [],
   "source": [
    "d = dict()\n",
    "d = {}\n",
    "type(d)"
   ]
  },
  {
   "cell_type": "code",
   "execution_count": 29,
   "id": "bbaa8aa3",
   "metadata": {},
   "outputs": [
    {
     "name": "stdout",
     "output_type": "stream",
     "text": [
      "{'Trump': 2017, 'Obama': 2009, 'Bush': 2001}\n"
     ]
    }
   ],
   "source": [
    "presidents_inauguration = {}\n",
    "presidents_inauguration['Trump'] = 2017 \n",
    "presidents_inauguration['Obama'] = 2009\n",
    "presidents_inauguration['Bush'] = 2001\n",
    "print(presidents_inauguration)"
   ]
  },
  {
   "cell_type": "code",
   "execution_count": 30,
   "id": "d016b412",
   "metadata": {},
   "outputs": [],
   "source": [
    "presidents_inauguration = {'Trump': 2017, \n",
    "                           'Obama': 2009, \n",
    "                           'Bush': 2001}"
   ]
  },
  {
   "cell_type": "code",
   "execution_count": 31,
   "id": "49ddcfb0",
   "metadata": {},
   "outputs": [
    {
     "data": {
      "text/plain": [
       "2017"
      ]
     },
     "execution_count": 31,
     "metadata": {},
     "output_type": "execute_result"
    }
   ],
   "source": [
    "presidents_inauguration [\"Trump\"]"
   ]
  },
  {
   "cell_type": "code",
   "execution_count": null,
   "id": "2a4952ac",
   "metadata": {},
   "outputs": [],
   "source": [
    "print(\"Obama was inaugurated in \" + str(presidents_inauguration ['Obama']))"
   ]
  },
  {
   "cell_type": "markdown",
   "id": "664f943e",
   "metadata": {},
   "source": [
    "Hier braucht man String, weil man sonst String und Zahl miteinander verbinden würde und das geht nicht."
   ]
  },
  {
   "cell_type": "code",
   "execution_count": null,
   "id": "b7e55150",
   "metadata": {},
   "outputs": [],
   "source": [
    "presidents_inauguration.keys()"
   ]
  },
  {
   "cell_type": "code",
   "execution_count": null,
   "id": "b4234292",
   "metadata": {},
   "outputs": [],
   "source": [
    "presidents_inauguration.values()"
   ]
  },
  {
   "cell_type": "code",
   "execution_count": null,
   "id": "f67f44ba",
   "metadata": {},
   "outputs": [],
   "source": [
    "presidents_inauguration.items()"
   ]
  },
  {
   "cell_type": "code",
   "execution_count": null,
   "id": "88ab7549",
   "metadata": {},
   "outputs": [],
   "source": [
    "len(presidents_inauguration)"
   ]
  },
  {
   "cell_type": "markdown",
   "id": "7b573922",
   "metadata": {},
   "source": [
    "### Defaultdicts"
   ]
  },
  {
   "cell_type": "code",
   "execution_count": 33,
   "id": "2a7d4dc7",
   "metadata": {},
   "outputs": [
    {
     "ename": "KeyError",
     "evalue": "'c'",
     "output_type": "error",
     "traceback": [
      "\u001b[0;31m---------------------------------------------------------------------------\u001b[0m",
      "\u001b[0;31mKeyError\u001b[0m                                  Traceback (most recent call last)",
      "Cell \u001b[0;32mIn [33], line 2\u001b[0m\n\u001b[1;32m      1\u001b[0m d \u001b[38;5;241m=\u001b[39m {\u001b[38;5;124m\"\u001b[39m\u001b[38;5;124ma\u001b[39m\u001b[38;5;124m\"\u001b[39m: \u001b[38;5;241m5\u001b[39m, \u001b[38;5;124m\"\u001b[39m\u001b[38;5;124mb\u001b[39m\u001b[38;5;124m\"\u001b[39m: \u001b[38;5;241m3\u001b[39m}\n\u001b[0;32m----> 2\u001b[0m \u001b[43md\u001b[49m\u001b[43m[\u001b[49m\u001b[38;5;124;43m\"\u001b[39;49m\u001b[38;5;124;43mc\u001b[39;49m\u001b[38;5;124;43m\"\u001b[39;49m\u001b[43m]\u001b[49m\n",
      "\u001b[0;31mKeyError\u001b[0m: 'c'"
     ]
    }
   ],
   "source": [
    "d = {\"a\": 5, \"b\": 3}\n",
    "d[\"c\"]"
   ]
  },
  {
   "cell_type": "code",
   "execution_count": 32,
   "id": "137b92bd",
   "metadata": {},
   "outputs": [
    {
     "data": {
      "text/plain": [
       "0"
      ]
     },
     "execution_count": 32,
     "metadata": {},
     "output_type": "execute_result"
    }
   ],
   "source": [
    "from collections import defaultdict\n",
    "d = defaultdict(int)\n",
    "d[\"a\"] = 5\n",
    "d[\"b\"] = 3\n",
    "d[\"c\"]"
   ]
  },
  {
   "cell_type": "code",
   "execution_count": null,
   "id": "87cba841",
   "metadata": {},
   "outputs": [],
   "source": [
    "from collections import defaultdict\n",
    "d = defaultdict(list)\n",
    "d[\"a\"] = 5\n",
    "d[\"b\"] = 3\n",
    "d[\"c\"]"
   ]
  },
  {
   "cell_type": "markdown",
   "id": "70629129",
   "metadata": {},
   "source": [
    "# Flow control"
   ]
  },
  {
   "cell_type": "markdown",
   "id": "1f90f096",
   "metadata": {},
   "source": [
    "Without control statements commands are just executed one after the other, line by line. Control statements allow for conditional execution of commands or iterated (possibly with modifications) execution of code."
   ]
  },
  {
   "cell_type": "markdown",
   "id": "4f9af338",
   "metadata": {},
   "source": [
    "### If - Else\n",
    "\"If\" constructs allow for the conditional execution of code."
   ]
  },
  {
   "cell_type": "code",
   "execution_count": 34,
   "id": "782c9d1f",
   "metadata": {},
   "outputs": [
    {
     "name": "stdout",
     "output_type": "stream",
     "text": [
      "This is a big number!\n"
     ]
    }
   ],
   "source": [
    "x = 10\n",
    "if x > 5:\n",
    "    print ('This is a big number!')"
   ]
  },
  {
   "cell_type": "code",
   "execution_count": 35,
   "id": "8bb39b7f",
   "metadata": {},
   "outputs": [],
   "source": [
    "x = 1\n",
    "if x > 5:\n",
    "    print ('This is a big number!')"
   ]
  },
  {
   "cell_type": "markdown",
   "id": "2009c32f",
   "metadata": {},
   "source": [
    "in the \"else\" block, we can specify code that is executed otherwise"
   ]
  },
  {
   "cell_type": "code",
   "execution_count": null,
   "id": "30c30a99",
   "metadata": {},
   "outputs": [],
   "source": [
    "x = 4\n",
    "if x > 5:\n",
    "    print ('This is a big number!')\n",
    "else:\n",
    "    print ('this is a small number!')"
   ]
  },
  {
   "cell_type": "markdown",
   "id": "d7944c92",
   "metadata": {},
   "source": [
    "The \"elif\" block is executed only, if the condition after \"if\" does not apply, but the condition after \"elif\" applies."
   ]
  },
  {
   "cell_type": "code",
   "execution_count": null,
   "id": "4f2e590f",
   "metadata": {},
   "outputs": [],
   "source": [
    "x = 15\n",
    "if x > 20:\n",
    "    print ('This is a very big number!')\n",
    "elif x > 10:\n",
    "    print ('This is a big number!')\n",
    "else:\n",
    "    print ('this is a small number!')"
   ]
  },
  {
   "cell_type": "markdown",
   "id": "059c384a",
   "metadata": {},
   "source": [
    "We can also do the same with a hierarchical if-else:"
   ]
  },
  {
   "cell_type": "code",
   "execution_count": null,
   "id": "08d516ca",
   "metadata": {},
   "outputs": [],
   "source": [
    "x = 15\n",
    "if x > 20:\n",
    "    print ('This is a very big number!')\n",
    "else:\n",
    "    if x > 10:\n",
    "        print ('This is a big number!')\n",
    "    else:\n",
    "        print ('this is a small number!')"
   ]
  },
  {
   "cell_type": "code",
   "execution_count": null,
   "id": "90da4bb4",
   "metadata": {},
   "outputs": [],
   "source": [
    "x = 10\n",
    "command = 'increment'\n",
    "if command =='increment':\n",
    "    x = x + 1\n",
    "print (x)"
   ]
  },
  {
   "cell_type": "markdown",
   "id": "a0d52533",
   "metadata": {},
   "source": [
    "Note that tabs/whitespaces are very important (at the start of the line). Spot the difference between the next two blocks!"
   ]
  },
  {
   "cell_type": "code",
   "execution_count": 36,
   "id": "8683c956",
   "metadata": {},
   "outputs": [
    {
     "name": "stdout",
     "output_type": "stream",
     "text": [
      "10\n"
     ]
    }
   ],
   "source": [
    "x = 10\n",
    "command = 'nothing'\n",
    "if command =='increment':\n",
    "    x = x + 1\n",
    "print(x)"
   ]
  },
  {
   "cell_type": "code",
   "execution_count": null,
   "id": "424e58da",
   "metadata": {},
   "outputs": [],
   "source": [
    "x = 10\n",
    "command = 'increment'\n",
    "if command =='increment':\n",
    "    y = 2\n",
    "    x = x + 1\n",
    "print(x)\n",
    "print(y)"
   ]
  },
  {
   "cell_type": "markdown",
   "id": "fa9879fd",
   "metadata": {},
   "source": [
    "There must always be a code block after if/else. If you want to leave it empty, you can use pass. It does (literally) nothing, but prevents a syntactic error."
   ]
  },
  {
   "cell_type": "code",
   "execution_count": 37,
   "id": "9011cb4d",
   "metadata": {},
   "outputs": [
    {
     "name": "stdout",
     "output_type": "stream",
     "text": [
      "Here our code continues...\n"
     ]
    }
   ],
   "source": [
    "x = 20\n",
    "if x > 10:\n",
    "    #We will implement this later\n",
    "    pass\n",
    "print (\"Here our code continues...\")"
   ]
  },
  {
   "cell_type": "markdown",
   "id": "44f42e05",
   "metadata": {},
   "source": [
    "### Loops\n",
    "Loops allow you to execute code multiple times. The variable values, and thus the actual execution can be different in each iteration."
   ]
  },
  {
   "cell_type": "code",
   "execution_count": 39,
   "id": "f80ab67e",
   "metadata": {},
   "outputs": [
    {
     "name": "stdout",
     "output_type": "stream",
     "text": [
      "Hello John!\n",
      "Hello Paul!\n",
      "Hello George!\n",
      "Hello Ringo!\n"
     ]
    }
   ],
   "source": [
    "first_names = ['John', 'Paul', 'George', 'Ringo']\n",
    "for name in first_names:\n",
    "    print(\"Hello \" + name + \"!\")"
   ]
  },
  {
   "cell_type": "markdown",
   "id": "a59698f5",
   "metadata": {},
   "source": [
    "Contrary to many other programming languages there is no built-in for... counting loop.\n",
    "However, you can use the range function:"
   ]
  },
  {
   "cell_type": "code",
   "execution_count": 40,
   "id": "5f14b1d9",
   "metadata": {},
   "outputs": [
    {
     "name": "stdout",
     "output_type": "stream",
     "text": [
      "0\n",
      "1\n",
      "2\n",
      "3\n",
      "4\n"
     ]
    }
   ],
   "source": [
    "for i in range(5):\n",
    "    print(i)"
   ]
  },
  {
   "cell_type": "code",
   "execution_count": 41,
   "id": "85ebf7b9",
   "metadata": {},
   "outputs": [
    {
     "name": "stdout",
     "output_type": "stream",
     "text": [
      "2\n",
      "3\n",
      "4\n"
     ]
    }
   ],
   "source": [
    "for i in range(2, 5):\n",
    "    print (i)"
   ]
  },
  {
   "cell_type": "code",
   "execution_count": 42,
   "id": "cc8e77aa",
   "metadata": {},
   "outputs": [
    {
     "name": "stdout",
     "output_type": "stream",
     "text": [
      "-10\n",
      "-8\n",
      "-6\n",
      "-4\n",
      "-2\n",
      "0\n",
      "2\n",
      "4\n",
      "6\n",
      "8\n"
     ]
    }
   ],
   "source": [
    "#three arguments: start, stop, step-size\n",
    "for i in range (-10, 10, 2):\n",
    "    print(i)"
   ]
  },
  {
   "cell_type": "markdown",
   "id": "72b824e9",
   "metadata": {},
   "source": [
    "The enumerate statement allows you to iterate over a list with an index:"
   ]
  },
  {
   "cell_type": "code",
   "execution_count": 43,
   "id": "bd8a9649",
   "metadata": {},
   "outputs": [
    {
     "name": "stdout",
     "output_type": "stream",
     "text": [
      "Name 0: John\n",
      "Name 1: Paul\n",
      "Name 2: George\n",
      "Name 3: Ringo\n"
     ]
    }
   ],
   "source": [
    "for index, name in enumerate(first_names):\n",
    "    print(\"Name \"+ str(index) + \": \" + name)"
   ]
  },
  {
   "cell_type": "markdown",
   "id": "17c01fbe",
   "metadata": {},
   "source": [
    "break allows you to break a loop at any time:"
   ]
  },
  {
   "cell_type": "code",
   "execution_count": null,
   "id": "071f0e22",
   "metadata": {},
   "outputs": [],
   "source": [
    "for index, name in enumerate (first_names):\n",
    "    print(\"Name \"+ str(index) + \": \" + name)\n",
    "    if name == \"Paul\":\n",
    "        break"
   ]
  },
  {
   "cell_type": "markdown",
   "id": "210f6cb3",
   "metadata": {},
   "source": [
    "We cannot only loop over lists, but over any iterable. For example strings"
   ]
  },
  {
   "cell_type": "code",
   "execution_count": null,
   "id": "df1cc2a2",
   "metadata": {},
   "outputs": [],
   "source": [
    "x = \"example\"\n",
    "for letter in x:\n",
    "    print(letter)"
   ]
  },
  {
   "cell_type": "code",
   "execution_count": 44,
   "id": "e9a6fd4b",
   "metadata": {},
   "outputs": [
    {
     "name": "stdout",
     "output_type": "stream",
     "text": [
      "2\n",
      "4\n",
      "8\n",
      "16\n",
      "32\n",
      "64\n",
      "128\n"
     ]
    }
   ],
   "source": [
    "x = 1\n",
    "while x < 100:\n",
    "    x = x * 2\n",
    "    print(x)"
   ]
  },
  {
   "cell_type": "markdown",
   "id": "cfeab869",
   "metadata": {},
   "source": [
    "You can use \"break\" just like in for-loops, you can even entirely rely on that!"
   ]
  },
  {
   "cell_type": "code",
   "execution_count": 45,
   "id": "82aaec29",
   "metadata": {},
   "outputs": [
    {
     "name": "stdout",
     "output_type": "stream",
     "text": [
      "2\n",
      "4\n",
      "8\n",
      "16\n",
      "32\n",
      "64\n",
      "128\n"
     ]
    }
   ],
   "source": [
    "x = 1\n",
    "while True:\n",
    "    if x > 100:\n",
    "        break\n",
    "    x = x * 2\n",
    "    print(x)"
   ]
  }
 ],
 "metadata": {
  "kernelspec": {
   "display_name": "Python 3.10.7 64-bit",
   "language": "python",
   "name": "python3"
  },
  "language_info": {
   "codemirror_mode": {
    "name": "ipython",
    "version": 3
   },
   "file_extension": ".py",
   "mimetype": "text/x-python",
   "name": "python",
   "nbconvert_exporter": "python",
   "pygments_lexer": "ipython3",
   "version": "3.10.7"
  },
  "vscode": {
   "interpreter": {
    "hash": "aee8b7b246df8f9039afb4144a1f6fd8d2ca17a180786b69acc140d282b71a49"
   }
  }
 },
 "nbformat": 4,
 "nbformat_minor": 5
}
