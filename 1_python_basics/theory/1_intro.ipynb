{
 "cells": [
  {
   "cell_type": "markdown",
   "id": "c9dfd13c",
   "metadata": {},
   "source": [
    "# Introduction"
   ]
  },
  {
   "cell_type": "markdown",
   "id": "e88ea171",
   "metadata": {},
   "source": [
    "### Getting familiar with Jupyter. Two cell types. Basic calculations."
   ]
  },
  {
   "cell_type": "markdown",
   "id": "74ae08c6",
   "metadata": {},
   "source": [
    "[https://colab.research.google.com](https://colab.research.google.com)"
   ]
  },
  {
   "cell_type": "code",
   "execution_count": 5,
   "id": "c210e58e",
   "metadata": {},
   "outputs": [
    {
     "data": {
      "text/plain": [
       "10"
      ]
     },
     "execution_count": 5,
     "metadata": {},
     "output_type": "execute_result"
    }
   ],
   "source": [
    "2 + 2 * 5 - (1 + 1)"
   ]
  },
  {
   "cell_type": "markdown",
   "id": "c9a7357c",
   "metadata": {},
   "source": [
    "### Variables\n",
    "*In computer programming, a variable or scalar is a storage location (identified by a memory address) paired with an associated symbolic name, which contains some known or unknown quantity of information referred to as a value. The variable name is the usual way to reference the stored value, in addition to referring to the variable itself, depending on the context. This separation of name and content allows the name to be used independently of the exact information it represents.* \n",
    "\n",
    "-- Wikipedia"
   ]
  },
  {
   "cell_type": "code",
   "execution_count": 3,
   "id": "f788b5fe",
   "metadata": {},
   "outputs": [],
   "source": [
    "x = 1\n",
    "y = 2"
   ]
  },
  {
   "cell_type": "code",
   "execution_count": 4,
   "id": "369758f5",
   "metadata": {},
   "outputs": [
    {
     "data": {
      "text/plain": [
       "3"
      ]
     },
     "execution_count": 4,
     "metadata": {},
     "output_type": "execute_result"
    }
   ],
   "source": [
    "x + y"
   ]
  },
  {
   "cell_type": "code",
   "execution_count": 1,
   "id": "82bc6230",
   "metadata": {},
   "outputs": [
    {
     "data": {
      "text/plain": [
       "15"
      ]
     },
     "execution_count": 1,
     "metadata": {},
     "output_type": "execute_result"
    }
   ],
   "source": [
    "my_variable = 5\n",
    "another_variable = 10\n",
    "my_variable + another_variable"
   ]
  },
  {
   "cell_type": "markdown",
   "id": "5f5b3611",
   "metadata": {},
   "source": [
    "Note on cell order. Bellow are three cells. Try to execute first one, then second, then third, then second again"
   ]
  },
  {
   "cell_type": "code",
   "execution_count": 6,
   "id": "b2fb5b46",
   "metadata": {},
   "outputs": [],
   "source": [
    "x = 1"
   ]
  },
  {
   "cell_type": "code",
   "execution_count": 7,
   "id": "1e249b5b",
   "metadata": {},
   "outputs": [
    {
     "name": "stdout",
     "output_type": "stream",
     "text": [
      "1\n"
     ]
    }
   ],
   "source": [
    "print(x)"
   ]
  },
  {
   "cell_type": "code",
   "execution_count": 3,
   "id": "0daec5dd",
   "metadata": {},
   "outputs": [],
   "source": [
    "x = 2"
   ]
  },
  {
   "cell_type": "markdown",
   "id": "c536fb30",
   "metadata": {},
   "source": [
    "Some Arithmetic Operators:\n",
    "\n",
    "| Symbol | Task Performed |\n",
    "|----|---|\n",
    "| +  | Addition |\n",
    "| -  | Subtraction |\n",
    "| /  | division |\n",
    "| //  | integer division |\n",
    "| *  | multiplication |\n",
    "| **  | to the power of |\n",
    "| % | modulo |"
   ]
  },
  {
   "cell_type": "code",
   "execution_count": 2,
   "id": "df5820e7",
   "metadata": {},
   "outputs": [
    {
     "data": {
      "text/plain": [
       "3.75"
      ]
     },
     "execution_count": 2,
     "metadata": {},
     "output_type": "execute_result"
    }
   ],
   "source": [
    "15 / 4"
   ]
  },
  {
   "cell_type": "code",
   "execution_count": 9,
   "id": "cbeba359",
   "metadata": {},
   "outputs": [
    {
     "data": {
      "text/plain": [
       "3"
      ]
     },
     "execution_count": 9,
     "metadata": {},
     "output_type": "execute_result"
    }
   ],
   "source": [
    "15 // 4"
   ]
  },
  {
   "cell_type": "code",
   "execution_count": null,
   "id": "5134e315",
   "metadata": {},
   "outputs": [],
   "source": [
    "x ** 2"
   ]
  },
  {
   "cell_type": "code",
   "execution_count": null,
   "id": "1776594d",
   "metadata": {},
   "outputs": [],
   "source": [
    "2**3 + 5* x / 11"
   ]
  },
  {
   "cell_type": "markdown",
   "id": "5c776ab3",
   "metadata": {},
   "source": [
    "Some relational operators:\n",
    "\n",
    "| Symbol | Task Performed |\n",
    "|----|---|\n",
    "| == | True, if both sides are equal |\n",
    "| !=  | True, if both sides are not equal |\n",
    "| < |True, if the left side is smaller |\n",
    "| > | True, if the left side is greater |\n",
    "| <=  | True, if the left side is smaller or equal to the right side |\n",
    "| >=  | True, if the left side is greater or equal to the right side |"
   ]
  },
  {
   "cell_type": "markdown",
   "id": "7b868c86",
   "metadata": {},
   "source": [
    "*An operator is something that takes one or more values (or expressions, in programming jargon) and yields another value (so that the construction itself becomes an expression)*\n",
    "\n",
    "-- https://computersciencewiki.org/index.php/Operators\n"
   ]
  },
  {
   "cell_type": "code",
   "execution_count": 4,
   "id": "a39cdcaa",
   "metadata": {},
   "outputs": [
    {
     "data": {
      "text/plain": [
       "True"
      ]
     },
     "execution_count": 4,
     "metadata": {},
     "output_type": "execute_result"
    }
   ],
   "source": [
    "5 != 3"
   ]
  },
  {
   "cell_type": "code",
   "execution_count": null,
   "id": "6d4a58c1",
   "metadata": {},
   "outputs": [],
   "source": [
    "x > 5"
   ]
  },
  {
   "cell_type": "code",
   "execution_count": null,
   "id": "8dda0bbf",
   "metadata": {},
   "outputs": [],
   "source": [
    "x != y"
   ]
  },
  {
   "cell_type": "markdown",
   "id": "580d4a4a",
   "metadata": {},
   "source": [
    "### Simple function calls"
   ]
  },
  {
   "cell_type": "markdown",
   "id": "776ce43f",
   "metadata": {},
   "source": [
    "Conveniently, in Jupyter the last statement of a cell gets printed automatically. Typically, in Python you have to use the print function instead. This also allows you multiple print-outs per cell:"
   ]
  },
  {
   "cell_type": "code",
   "execution_count": 6,
   "id": "820efca7",
   "metadata": {},
   "outputs": [
    {
     "name": "stdout",
     "output_type": "stream",
     "text": [
      "4\n",
      "9\n",
      "False\n"
     ]
    }
   ],
   "source": [
    "print (2 + 2)\n",
    "print (4 + 5)\n",
    "print (x == 10)"
   ]
  },
  {
   "cell_type": "code",
   "execution_count": 7,
   "id": "53263b23",
   "metadata": {},
   "outputs": [
    {
     "name": "stdout",
     "output_type": "stream",
     "text": [
      "Hello World\n"
     ]
    }
   ],
   "source": [
    "print(\"Hello World\")"
   ]
  },
  {
   "cell_type": "markdown",
   "id": "1f5e9a86",
   "metadata": {},
   "source": [
    "There are several built-in function in Python that you can always call, see https://docs.python.org/3/library/functions.html. for a full list. We will discuss several of these functions also throughout the course."
   ]
  },
  {
   "cell_type": "code",
   "execution_count": 8,
   "id": "2cc9f5ab",
   "metadata": {},
   "outputs": [
    {
     "data": {
      "text/plain": [
       "5"
      ]
     },
     "execution_count": 8,
     "metadata": {},
     "output_type": "execute_result"
    }
   ],
   "source": [
    "abs(-5)"
   ]
  },
  {
   "cell_type": "code",
   "execution_count": null,
   "id": "de3ba0c7",
   "metadata": {},
   "outputs": [],
   "source": [
    "max(3, 5)"
   ]
  },
  {
   "cell_type": "code",
   "execution_count": null,
   "id": "d45dcddc",
   "metadata": {},
   "outputs": [],
   "source": [
    "x = 6\n",
    "max(6, 0)"
   ]
  },
  {
   "cell_type": "code",
   "execution_count": null,
   "id": "afaf29fa",
   "metadata": {},
   "outputs": [],
   "source": [
    "print(max(x, 5), max(1, 3))"
   ]
  },
  {
   "cell_type": "markdown",
   "id": "6b17d8cc",
   "metadata": {},
   "source": [
    "We can also do similar things with strings (=text):"
   ]
  },
  {
   "cell_type": "code",
   "execution_count": null,
   "id": "1595d79c",
   "metadata": {},
   "outputs": [],
   "source": [
    "print(max('abc', 'abcd'))"
   ]
  },
  {
   "cell_type": "markdown",
   "id": "8861054f",
   "metadata": {},
   "source": [
    "### Most basic data types"
   ]
  },
  {
   "cell_type": "markdown",
   "id": "26ad421f",
   "metadata": {},
   "source": [
    "| type | description |\n",
    "|----|---|\n",
    "| int | integer number |\n",
    "| float  | floating point number |\n",
    "| bool | True or False |\n",
    "| string | text |\n",
    "\n",
    "We can check the type of a variable with the \"type\" function."
   ]
  },
  {
   "cell_type": "code",
   "execution_count": 9,
   "id": "b722bb99",
   "metadata": {},
   "outputs": [
    {
     "name": "stdout",
     "output_type": "stream",
     "text": [
      "<class 'int'>\n",
      "<class 'float'>\n",
      "<class 'str'>\n",
      "<class 'str'>\n"
     ]
    }
   ],
   "source": [
    "print(type(5))\n",
    "print(type(5.0))\n",
    "print(type(\"Hello World\"))\n",
    "print(type('Hello World')) # \" \" and ' ' can be used equivalently"
   ]
  },
  {
   "cell_type": "markdown",
   "id": "979fc883",
   "metadata": {},
   "source": [
    "We can use other types in a similar way as numbers, quite intuitively:"
   ]
  },
  {
   "cell_type": "code",
   "execution_count": 10,
   "id": "a52b5e6d",
   "metadata": {},
   "outputs": [
    {
     "name": "stdout",
     "output_type": "stream",
     "text": [
      "Hello World!\n",
      "Is 'A' alphabetically before 'B'?\n",
      "True\n"
     ]
    }
   ],
   "source": [
    "print(\"Hello \" + \"World\" + \"!\")\n",
    "print(\"Is 'A' alphabetically before 'B'?\")\n",
    "print('A' < 'B')"
   ]
  },
  {
   "cell_type": "code",
   "execution_count": 12,
   "id": "51357384",
   "metadata": {},
   "outputs": [
    {
     "data": {
      "text/plain": [
       "'hello2'"
      ]
     },
     "execution_count": 12,
     "metadata": {},
     "output_type": "execute_result"
    }
   ],
   "source": [
    "\"hello\" + str(2)\n"
   ]
  },
  {
   "cell_type": "markdown",
   "id": "f6737b4d",
   "metadata": {},
   "source": [
    "But of course, different data types allow for different functions:"
   ]
  },
  {
   "cell_type": "code",
   "execution_count": 13,
   "id": "9ec47869",
   "metadata": {},
   "outputs": [
    {
     "data": {
      "text/plain": [
       "24"
      ]
     },
     "execution_count": 13,
     "metadata": {},
     "output_type": "execute_result"
    }
   ],
   "source": [
    "len(\"How long is this string?\")"
   ]
  },
  {
   "cell_type": "code",
   "execution_count": null,
   "id": "bc5c3ea6",
   "metadata": {},
   "outputs": [],
   "source": [
    "x = 10\n",
    "len(x)"
   ]
  },
  {
   "cell_type": "markdown",
   "id": "55d6fadb",
   "metadata": {},
   "source": [
    "### Conversion between types\n",
    "You can convert between these types by casting:"
   ]
  },
  {
   "cell_type": "code",
   "execution_count": 14,
   "id": "379cc240",
   "metadata": {},
   "outputs": [
    {
     "name": "stdout",
     "output_type": "stream",
     "text": [
      "<class 'int'>\n",
      "<class 'str'>\n",
      "2\n"
     ]
    }
   ],
   "source": [
    "x_as_int = 10\n",
    "print (type(x_as_int))\n",
    "\n",
    "x_as_string = str(x_as_int)\n",
    "print (type(x_as_string))\n",
    "\n",
    "print (len(x_as_string))"
   ]
  },
  {
   "cell_type": "markdown",
   "id": "687f8016",
   "metadata": {},
   "source": [
    "A typical conversion for prints:"
   ]
  },
  {
   "cell_type": "code",
   "execution_count": 1,
   "id": "7a4163ba",
   "metadata": {},
   "outputs": [
    {
     "ename": "NameError",
     "evalue": "name 'x_as_int' is not defined",
     "output_type": "error",
     "traceback": [
      "\u001b[1;31m---------------------------------------------------------------------------\u001b[0m",
      "\u001b[1;31mNameError\u001b[0m                                 Traceback (most recent call last)",
      "\u001b[1;32m~\\AppData\\Local\\Temp/ipykernel_5724/427203796.py\u001b[0m in \u001b[0;36m<module>\u001b[1;34m\u001b[0m\n\u001b[1;32m----> 1\u001b[1;33m \u001b[0mprint\u001b[0m \u001b[1;33m(\u001b[0m\u001b[1;34m\"My variable x is \"\u001b[0m \u001b[1;33m+\u001b[0m \u001b[0mstr\u001b[0m\u001b[1;33m(\u001b[0m\u001b[0mx_as_int\u001b[0m\u001b[1;33m)\u001b[0m\u001b[1;33m)\u001b[0m\u001b[1;33m\u001b[0m\u001b[1;33m\u001b[0m\u001b[0m\n\u001b[0m",
      "\u001b[1;31mNameError\u001b[0m: name 'x_as_int' is not defined"
     ]
    }
   ],
   "source": [
    "print (\"My variable x is \" + str(x_as_int))"
   ]
  },
  {
   "cell_type": "markdown",
   "id": "672fed16",
   "metadata": {},
   "source": [
    "### String functions\n",
    "*String: a sequence of characters*"
   ]
  },
  {
   "cell_type": "code",
   "execution_count": 17,
   "id": "0451ab3c",
   "metadata": {},
   "outputs": [
    {
     "data": {
      "text/plain": [
       "34"
      ]
     },
     "execution_count": 17,
     "metadata": {},
     "output_type": "execute_result"
    }
   ],
   "source": [
    "s = \"Python is my new favorite language\"\n",
    "len(s)"
   ]
  },
  {
   "cell_type": "code",
   "execution_count": 19,
   "id": "f9243b31",
   "metadata": {},
   "outputs": [
    {
     "data": {
      "text/plain": [
       "'python is my new favorite language'"
      ]
     },
     "execution_count": 19,
     "metadata": {},
     "output_type": "execute_result"
    }
   ],
   "source": [
    "s.lower()"
   ]
  },
  {
   "cell_type": "code",
   "execution_count": 18,
   "id": "d0b30b71",
   "metadata": {},
   "outputs": [
    {
     "data": {
      "text/plain": [
       "'PYTHON IS MY NEW FAVORITE LANGUAGE'"
      ]
     },
     "execution_count": 18,
     "metadata": {},
     "output_type": "execute_result"
    }
   ],
   "source": [
    "s.upper()"
   ]
  },
  {
   "cell_type": "code",
   "execution_count": 20,
   "id": "b9c398d6",
   "metadata": {},
   "outputs": [
    {
     "data": {
      "text/plain": [
       "True"
      ]
     },
     "execution_count": 20,
     "metadata": {},
     "output_type": "execute_result"
    }
   ],
   "source": [
    "s.startswith('P')"
   ]
  },
  {
   "cell_type": "code",
   "execution_count": 21,
   "id": "fa92e925",
   "metadata": {},
   "outputs": [
    {
     "data": {
      "text/plain": [
       "False"
      ]
     },
     "execution_count": 21,
     "metadata": {},
     "output_type": "execute_result"
    }
   ],
   "source": [
    "s.startswith('p') # Be careful, its case sensitive"
   ]
  },
  {
   "cell_type": "code",
   "execution_count": 23,
   "id": "61861d7f",
   "metadata": {},
   "outputs": [
    {
     "data": {
      "text/plain": [
       "'Python is your new favorite language'"
      ]
     },
     "execution_count": 23,
     "metadata": {},
     "output_type": "execute_result"
    }
   ],
   "source": [
    "s.replace (\"my\", \"your\")"
   ]
  },
  {
   "cell_type": "code",
   "execution_count": 22,
   "id": "d6a6e94a",
   "metadata": {},
   "outputs": [
    {
     "data": {
      "text/plain": [
       "'Python is my new f4vorite l4ngu4ge'"
      ]
     },
     "execution_count": 22,
     "metadata": {},
     "output_type": "execute_result"
    }
   ],
   "source": [
    "s.replace (\"a\", \"4\") # replaces all occurences"
   ]
  },
  {
   "cell_type": "code",
   "execution_count": null,
   "id": "56a35bb3",
   "metadata": {},
   "outputs": [],
   "source": [
    "s"
   ]
  },
  {
   "cell_type": "code",
   "execution_count": 24,
   "id": "4a5259f1",
   "metadata": {},
   "outputs": [
    {
     "data": {
      "text/plain": [
       "'Pyth0n is my new fav0rite language'"
      ]
     },
     "execution_count": 24,
     "metadata": {},
     "output_type": "execute_result"
    }
   ],
   "source": [
    "# be careful: replace() does not change the string, it returns a new string!\n",
    "s.replace(\"a\", \"4\")\n",
    "s.replace(\"o\", \"0\") "
   ]
  },
  {
   "cell_type": "code",
   "execution_count": 25,
   "id": "63aad9b9",
   "metadata": {},
   "outputs": [
    {
     "data": {
      "text/plain": [
       "'Pyth0n is my new f4v0rite l4ngu4ge'"
      ]
     },
     "execution_count": 25,
     "metadata": {},
     "output_type": "execute_result"
    }
   ],
   "source": [
    "s.replace (\"a\", \"4\").replace (\"o\", \"0\")"
   ]
  }
 ],
 "metadata": {
  "kernelspec": {
   "display_name": "Python 3.10.7 64-bit",
   "language": "python",
   "name": "python3"
  },
  "language_info": {
   "codemirror_mode": {
    "name": "ipython",
    "version": 3
   },
   "file_extension": ".py",
   "mimetype": "text/x-python",
   "name": "python",
   "nbconvert_exporter": "python",
   "pygments_lexer": "ipython3",
   "version": "3.10.7"
  },
  "vscode": {
   "interpreter": {
    "hash": "aee8b7b246df8f9039afb4144a1f6fd8d2ca17a180786b69acc140d282b71a49"
   }
  }
 },
 "nbformat": 4,
 "nbformat_minor": 5
}
