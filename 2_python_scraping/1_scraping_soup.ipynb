{
 "cells": [
  {
   "cell_type": "markdown",
   "metadata": {},
   "source": [
    "# Basic Scraping with Beautiful Soup\n",
    "\n",
    "_Note: adapted from Ivan Smirnov's exercises_\n",
    "\n",
    "\n",
    "### HTML\n",
    "\n",
    "HTML - Hyper Text Markup Language (https://www.w3schools.com/html/html_intro.asp)\n",
    "\n",
    "HTML elements are defined by tags\n",
    "```\n",
    "<b>Bold text</b>\n",
    "```\n",
    "Tags have attributes\n",
    "```\n",
    "<a href=\"https://rwth-aachen.de\">RWTH Aachen</a>\n",
    "```\n",
    "Tags could be nested\n",
    "```\n",
    "<div id=\"main\">\n",
    "    <div class=\"sub\">\n",
    "        <a href=\"https://rwth-aachen.de\">RWTH Aachen</a>\n",
    "    </div>\n",
    "    <div class=\"sub\">\n",
    "        <a href=\"https://hse.ru\">HSE University</a>\n",
    "    </div>\n",
    "</div>\n",
    "<div id=\"footer\">\n",
    "</div>\n",
    "```\n",
    "HTML-elements could be selected by name\n",
    "```\n",
    "a\n",
    "```\n",
    "By ID\n",
    "```\n",
    "#main\n",
    "```\n",
    "By class\n",
    "```\n",
    ".sub\n",
    "```\n",
    "Nested selection\n",
    "```\n",
    "#main .sub\n",
    "```\n",
    "\n",
    "[web page example](https://www.rwth-aachen.de/cms/root/Studium/Vor-dem-Studium/Studiengaenge/~yev/Liste-Aktuelle-Studiengaenge/lidx/1/?page=1&aaaaaaaaaaaaaum=aaaaaaaaaaaaxqh&showall=1)"
   ]
  },
  {
   "cell_type": "markdown",
   "metadata": {},
   "source": [
    "### Beautiful Soup\n",
    "\n",
    "[BeautifulSoup library](https://www.crummy.com/software/BeautifulSoup/bs4/doc/)"
   ]
  },
  {
   "cell_type": "code",
   "execution_count": 9,
   "metadata": {},
   "outputs": [
    {
     "name": "stdout",
     "output_type": "stream",
     "text": [
      "zsh:1: command not found: pip\n"
     ]
    }
   ],
   "source": [
    "!pip install beautifulsoup4\n",
    "\n"
   ]
  },
  {
   "cell_type": "code",
   "execution_count": 4,
   "metadata": {},
   "outputs": [
    {
     "data": {
      "text/plain": [
       "(\n",
       " <html>\n",
       " <head>\n",
       " <title>Test html-document</title>\n",
       " </head>\n",
       " <body>\n",
       " <div id=\"main\">\n",
       " <div class=\"sub\">\n",
       " <a href=\"https://uni-mannheim.de\">Uni Mannheim</a>\n",
       " </div>\n",
       " <div class=\"sub\">\n",
       " <a href=\"https://rwth-aachen.de\">RWTH Aachen</a>\n",
       " </div>\n",
       " <div class=\"sub\">\n",
       " <a href=\"https://uni-heidelberg.de\">Uni Heidelberg</a></div>\n",
       " </div>\n",
       " <div id=\"footer\"></div>\n",
       " </body>\n",
       " </html>,\n",
       " bs4.BeautifulSoup)"
      ]
     },
     "execution_count": 4,
     "metadata": {},
     "output_type": "execute_result"
    }
   ],
   "source": [
    "\n",
    "html_doc = \"\"\"\n",
    "<html>\n",
    "    <head>\n",
    "        <title>Test html-document</title>\n",
    "    </head>\n",
    "    <body>\n",
    "        <div id=\"main\">\n",
    "        <div class=\"sub\">\n",
    "            <a href=\"https://uni-mannheim.de\">Uni Mannheim</a>\n",
    "        </div>\n",
    "        <div class=\"sub\">\n",
    "            <a href=\"https://rwth-aachen.de\">RWTH Aachen</a>\n",
    "        </div>\n",
    "        <div class=\"sub\">\n",
    "            <a href=\"https://uni-heidelberg.de\">Uni Heidelberg</a></div>\n",
    "        </div>\n",
    "        <div id=\"footer\"></div>\n",
    "    </body>\n",
    "</html>\n",
    "\"\"\"\n",
    "\n",
    "from bs4 import BeautifulSoup\n",
    "soup = BeautifulSoup(html_doc, 'html.parser')\n",
    "\n",
    "soup, type(soup)"
   ]
  },
  {
   "cell_type": "code",
   "execution_count": 5,
   "metadata": {},
   "outputs": [
    {
     "data": {
      "text/plain": [
       "'Test html-document'"
      ]
     },
     "execution_count": 5,
     "metadata": {},
     "output_type": "execute_result"
    }
   ],
   "source": [
    "soup.html.head.title\n",
    "soup.html.head.title.text"
   ]
  },
  {
   "cell_type": "code",
   "execution_count": 6,
   "metadata": {},
   "outputs": [
    {
     "name": "stdout",
     "output_type": "stream",
     "text": [
      "5\n"
     ]
    }
   ],
   "source": [
    "print(len(soup.select('div')))"
   ]
  },
  {
   "cell_type": "code",
   "execution_count": null,
   "metadata": {},
   "outputs": [],
   "source": [
    "print(len(soup.select('#main div')))"
   ]
  },
  {
   "cell_type": "code",
   "execution_count": null,
   "metadata": {},
   "outputs": [],
   "source": [
    "print(soup.prettify())"
   ]
  },
  {
   "cell_type": "code",
   "execution_count": null,
   "metadata": {},
   "outputs": [],
   "source": [
    "soup.select('a')"
   ]
  },
  {
   "cell_type": "code",
   "execution_count": null,
   "metadata": {},
   "outputs": [],
   "source": [
    "first = soup.select('a')[0]\n",
    "first, type(first)"
   ]
  },
  {
   "cell_type": "code",
   "execution_count": null,
   "metadata": {},
   "outputs": [],
   "source": [
    "first.parent"
   ]
  },
  {
   "cell_type": "code",
   "execution_count": null,
   "metadata": {},
   "outputs": [],
   "source": [
    "for el in first.parents:\n",
    "    print(type(el), el.name)"
   ]
  },
  {
   "cell_type": "code",
   "execution_count": null,
   "metadata": {},
   "outputs": [],
   "source": [
    "for el in first.parent.parent.children:\n",
    "    print(el)"
   ]
  },
  {
   "cell_type": "code",
   "execution_count": null,
   "metadata": {},
   "outputs": [],
   "source": [
    "## Empty text is also an HTML node, so we need to repeat next_sibling twice\n",
    "first.parent.next_sibling.next_sibling"
   ]
  },
  {
   "cell_type": "code",
   "execution_count": null,
   "metadata": {},
   "outputs": [],
   "source": [
    "soup.select('#main')"
   ]
  },
  {
   "cell_type": "code",
   "execution_count": null,
   "metadata": {},
   "outputs": [],
   "source": [
    "soup.select('.sub')"
   ]
  },
  {
   "cell_type": "code",
   "execution_count": null,
   "metadata": {},
   "outputs": [],
   "source": [
    "soup.find_all('div', class_ = 'sub')"
   ]
  }
 ],
 "metadata": {
  "kernelspec": {
   "display_name": "Python 3.9.1 64-bit",
   "language": "python",
   "name": "python3"
  },
  "language_info": {
   "codemirror_mode": {
    "name": "ipython",
    "version": 3
   },
   "file_extension": ".py",
   "mimetype": "text/x-python",
   "name": "python",
   "nbconvert_exporter": "python",
   "pygments_lexer": "ipython3",
   "version": "3.9.1"
  },
  "vscode": {
   "interpreter": {
    "hash": "c32e70da788b7e7a251586b987d2c569d373765eb2af3ced0674c402bf99c5a2"
   }
  }
 },
 "nbformat": 4,
 "nbformat_minor": 4
}
